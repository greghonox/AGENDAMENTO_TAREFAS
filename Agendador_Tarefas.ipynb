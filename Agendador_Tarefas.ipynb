{
 "metadata": {
  "language_info": {
   "codemirror_mode": {
    "name": "ipython",
    "version": 3
   },
   "file_extension": ".py",
   "mimetype": "text/x-python",
   "name": "python",
   "nbconvert_exporter": "python",
   "pygments_lexer": "ipython3",
   "version": "3.8.10-final"
  },
  "orig_nbformat": 2,
  "kernelspec": {
   "name": "python381064bitintellicaregateway2ca03635c28e4700ba0a0fe880a905bc",
   "display_name": "Python 3.8.10 64-bit ('intellicare_gateway')"
  }
 },
 "nbformat": 4,
 "nbformat_minor": 2,
 "cells": [
  {
   "source": [
    "## MODULO apscheduler\n",
    "### https://apscheduler.readthedocs.io/en/stable/userguide.html\n",
    "#### `pip install apscheduler`\n"
   ],
   "cell_type": "markdown",
   "metadata": {}
  },
  {
   "source": [
    "## NOSSA ESTRUTA DE AGENDAMENTO DEVE TRABALHR COM\n",
    "* BackgroundShcheduler\n",
    "* SQKAkcgenyHibStire"
   ],
   "cell_type": "markdown",
   "metadata": {}
  },
  {
   "cell_type": "code",
   "execution_count": null,
   "metadata": {},
   "outputs": [],
   "source": [
    "from apscheduler.schedulers.background import BackgroundScheduler\n",
    "from datetime import datetime, date\n",
    "from time import sleep\n",
    "\n",
    "numero_maximo_trabalhos_fila = 20\n",
    "numero_nucleos = 2"
   ]
  },
  {
   "source": [
    "* um MongoDBJobStore chamado “mongo”\n",
    "* um SQLAlchemyJobStore denominado “default” (usando SQLite)\n",
    "* um ThreadPoolExecutor denominado “default”, com uma contagem de trabalhadores de 20\n",
    "* um ProcessPoolExecutor denominado “processpool”, com uma contagem de trabalho de 5\n",
    "* UTC como o fuso horário do agendador\n",
    "* coalescência desativada para novos empregos por padrão\n",
    "* um limite máximo de instância padrão de 3 para novos trabalhos\n",
    "* `Depois que o planejador foi iniciado, você não pode mais alterar suas configurações.`"
   ],
   "cell_type": "markdown",
   "metadata": {}
  },
  {
   "cell_type": "code",
   "execution_count": null,
   "metadata": {},
   "outputs": [],
   "source": [
    "scheduler = BackgroundScheduler({\n",
    "    'apscheduler.jobstores.default': {\n",
    "        'type': 'sqlalchemy',\n",
    "        'url': 'sqlite:///jobs.sqlite'\n",
    "    },\n",
    "    'apscheduler.executors.default': {\n",
    "        'class': 'apscheduler.executors.pool:ThreadPoolExecutor',\n",
    "        'max_workers': numero_maximo_trabalhos_fila\n",
    "    },\n",
    "    'apscheduler.executors.processpool': {\n",
    "        'type': 'processpool',\n",
    "        'max_workers': numero_nucleos\n",
    "    },\n",
    "    'apscheduler.job_defaults.coalesce': 'false',\n",
    "    'apscheduler.job_defaults.max_instances': '3',\n",
    "    'apscheduler.timezone': 'UTC',\n",
    "})"
   ]
  },
  {
   "source": [
    "### ADICIONANDO TAREFA"
   ],
   "cell_type": "markdown",
   "metadata": {}
  },
  {
   "cell_type": "code",
   "execution_count": null,
   "metadata": {},
   "outputs": [],
   "source": [
    "def worker(t='Trabalhar'):\n",
    "    print(f'{datetime.now()} EXECUTANDO {t}')\n",
    "    sleep(5)"
   ]
  },
  {
   "source": [
    "* `date`: use quando quiser executar o trabalho apenas uma vez em um determinado momento\n",
    "* `interval`: use quando quiser executar o trabalho em intervalos fixos de tempo\n",
    "* `cron`: use quando quiser executar o trabalho periodicamente em determinados horários do dia"
   ],
   "cell_type": "markdown",
   "metadata": {}
  },
  {
   "source": [
    "### CASO DE `CRON` \n",
    "* `weeks` (int) - número de semanas de espera\n",
    "* `days` (int) - número de dias de espera\n",
    "* `hours` (int) - número de horas de espera\n",
    "* `minutes` (int) - número de minutos de espera\n",
    "* `seconds` (int) - número de segundos para esperar\n",
    "* `start_date` (datetime|str ) - ponto de partida para o cálculo do intervalo\n",
    "* `end_date` (datetime|str ) - última data / hora possível para acionar\n",
    "* `timezone` (datetimetzinfo|str) - fuso horário a ser usado para os cálculos de data / hora\n",
    "* `jitter` (int|None) - atrasar a execução do trabalho em jittersegundos, no máximo"
   ],
   "cell_type": "markdown",
   "metadata": {}
  },
  {
   "source": [
    "#scheduler.add_job(worker, 'interval', seconds=1, args=['SEMPRE RODANDO'], id='2')\n",
    "#scheduler.add_job(worker, 'interval', seconds=20, args=['RODO E PARO'], id='3')\n",
    "scheduler.add_job(worker, 'date', run_date=date(2009, 11, 6), args=['UM DIA EU RODO'], id='1')"
   ],
   "cell_type": "code",
   "metadata": {},
   "execution_count": null,
   "outputs": []
  },
  {
   "cell_type": "code",
   "execution_count": null,
   "metadata": {},
   "outputs": [],
   "source": [
    "scheduler.start()"
   ]
  },
  {
   "cell_type": "code",
   "execution_count": null,
   "metadata": {},
   "outputs": [],
   "source": [
    "# LISTA DE TAREFAS\n",
    "scheduler.print_jobs()"
   ]
  },
  {
   "cell_type": "code",
   "execution_count": null,
   "metadata": {},
   "outputs": [],
   "source": [
    "# PAUSA TODAS\n",
    "scheduler.pause()"
   ]
  },
  {
   "cell_type": "code",
   "execution_count": null,
   "metadata": {},
   "outputs": [],
   "source": [
    "# CONTINUAR TODAS\n",
    "scheduler.resume()"
   ]
  },
  {
   "cell_type": "code",
   "execution_count": null,
   "metadata": {},
   "outputs": [],
   "source": [
    "scheduler.get_job('1')"
   ]
  },
  {
   "cell_type": "code",
   "execution_count": null,
   "metadata": {},
   "outputs": [],
   "source": [
    "#### DESLIGAR\n",
    "# scheduler.shutdown()"
   ]
  },
  {
   "cell_type": "code",
   "execution_count": null,
   "metadata": {},
   "outputs": [],
   "source": []
  }
 ]
}